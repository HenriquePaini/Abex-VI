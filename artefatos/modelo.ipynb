{
 "cells": [
  {
   "cell_type": "code",
   "execution_count": null,
   "metadata": {},
   "outputs": [
    {
     "name": "stdout",
     "output_type": "stream",
     "text": [
      "Acurácia: 0.7662337662337663\n",
      "              precision    recall  f1-score   support\n",
      "\n",
      "           0       0.87      0.75      0.80        99\n",
      "           1       0.64      0.80      0.71        55\n",
      "\n",
      "    accuracy                           0.77       154\n",
      "   macro avg       0.75      0.77      0.76       154\n",
      "weighted avg       0.79      0.77      0.77       154\n",
      "\n",
      "Melhores parâmetros: {'max_depth': 10, 'max_features': 'log2', 'min_samples_leaf': 10, 'min_samples_split': 15, 'n_estimators': 200}\n",
      "Modelo salvo em artefatos/diabetes_model.joblib\n"
     ]
    }
   ],
   "source": [
    "import pandas as pd\n",
    "import numpy as np\n",
    "from sklearn.model_selection import train_test_split, GridSearchCV\n",
    "from sklearn.ensemble import RandomForestClassifier\n",
    "from sklearn.metrics import accuracy_score, classification_report\n",
    "from imblearn.over_sampling import SMOTE\n",
    "import joblib\n",
    "import os\n",
    "\n",
    "# Carregar o dataset\n",
    "df = pd.read_csv(r'C:\\diabetes.csv')\n",
    "# Tratar valores nulos\n",
    "df = df.fillna(df.median())\n",
    "\n",
    "# Separar features e target\n",
    "X = df.drop('Outcome', axis=1)\n",
    "y = df['Outcome']\n",
    "\n",
    "# Dividir em treino e teste\n",
    "X_train, X_test, y_train, y_test = train_test_split(X, y, test_size=0.2, random_state=42)\n",
    "\n",
    "# Balancear com SMOTE\n",
    "smote = SMOTE(random_state=42)\n",
    "X_train_bal, y_train_bal = smote.fit_resample(X_train, y_train)\n",
    "\n",
    "# Treinar modelo com GridSearchCV\n",
    "param_grid = {\n",
    "    'n_estimators': [200, 400],\n",
    "    'max_depth': [7, 10],               # Reduza a profundidade máxima drasticamente\n",
    "    'min_samples_split': [15, 20],      # Aumente o mínimo de amostras para dividir\n",
    "    'min_samples_leaf': [10, 15],       # Aumente o mínimo de amostras por folha\n",
    "    'max_features': ['sqrt', 'log2']    # Limita o número de features por árvore\n",
    "}\n",
    "\n",
    "grid = GridSearchCV( # testa várias combinações de hiperparâmetros do modelo para encontrar a que oferece o melhor desempenho\n",
    "    RandomForestClassifier(random_state=42),\n",
    "    param_grid,\n",
    "    cv=5,\n",
    "    n_jobs=-1,\n",
    "    scoring='f1'  \n",
    ")\n",
    "grid.fit(X_train_bal, y_train_bal)\n",
    "\n",
    "\n",
    "# Melhor modelo\n",
    "model = grid.best_estimator_\n",
    "\n",
    "# Avaliar o modelo\n",
    "y_pred = model.predict(X_test)\n",
    "acc = accuracy_score(y_test, y_pred)\n",
    "\n",
    "print(\"Acurácia:\", acc)\n",
    "print(classification_report(y_test, y_pred))\n",
    "print(\"Melhores parâmetros:\", grid.best_params_)\n",
    "\n",
    "# Salvar o modelo\n",
    "\n",
    "joblib.dump(model, 'diabetes_model.joblib')\n",
    "print(\"Modelo salvo em diabetes_model.joblib\")"
   ]
  }
 ],
 "metadata": {
  "kernelspec": {
   "display_name": ".venv",
   "language": "python",
   "name": "python3"
  },
  "language_info": {
   "codemirror_mode": {
    "name": "ipython",
    "version": 3
   },
   "file_extension": ".py",
   "mimetype": "text/x-python",
   "name": "python",
   "nbconvert_exporter": "python",
   "pygments_lexer": "ipython3",
   "version": "3.13.1"
  }
 },
 "nbformat": 4,
 "nbformat_minor": 2
}
